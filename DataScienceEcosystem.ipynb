{
 "cells": [
  {
   "cell_type": "markdown",
   "id": "86ba05ff-2741-465c-b484-7f1e6caf41b0",
   "metadata": {},
   "source": [
    "# Data Science Tools and Ecosystem"
   ]
  },
  {
   "cell_type": "markdown",
   "id": "d3fb8158-8d97-455e-bcc9-2727cfa9e16f",
   "metadata": {},
   "source": [
    "In this notebook, Data Science Tools and Ecosystem are summarized"
   ]
  },
  {
   "cell_type": "markdown",
   "id": "683195f2-2696-47eb-b27e-9a7618042cd3",
   "metadata": {},
   "source": [
    "**Objectives:**\n",
    "- Describe the components of a Data Scientist's toolkit and list various tool categories\n",
    "- List examples of open-source tools used in data science\n",
    "- Describe the relevant features of open-source tools\n",
    "- List examples of commercial and cloud-based data science tools\n"
   ]
  },
  {
   "cell_type": "markdown",
   "id": "865c428f-3719-487d-b61f-3f386c1e5cad",
   "metadata": {},
   "source": [
    "Some of the popular languages that Data Scientists use are:\n",
    "1. Python\n",
    "2. SQL\n",
    "3. R"
   ]
  },
  {
   "cell_type": "markdown",
   "id": "f990c1e9-9563-4727-a383-ed8f427bbc40",
   "metadata": {},
   "source": [
    "Some of the commonly used libraries used by Data Scientists include:\n",
    "\n",
    "1.\tNumPy\n",
    "2.\tSeaborn\n",
    "3.\tSpark\n"
   ]
  },
  {
   "cell_type": "markdown",
   "id": "fd5810c6-0a68-499c-bea3-d730007873e5",
   "metadata": {},
   "source": [
    "|Data Science Tools|\n",
    "|------------------|\n",
    "|Jupyter|\n",
    "|RStudio|\n",
    "|Spyder|\n"
   ]
  },
  {
   "cell_type": "markdown",
   "id": "bd321a2b-c1f0-473a-acfb-54dbcebeb4ce",
   "metadata": {},
   "source": [
    "### Below are a few examples of evaluating arithmetic expressions in Python"
   ]
  },
  {
   "cell_type": "code",
   "execution_count": 9,
   "id": "ff72b3c3-c2e3-4727-90c3-2090bbf48ba1",
   "metadata": {},
   "outputs": [
    {
     "data": {
      "text/plain": [
       "17"
      ]
     },
     "execution_count": 9,
     "metadata": {},
     "output_type": "execute_result"
    }
   ],
   "source": [
    "# This a simple arithmetic expression to mutiply then add integers\n",
    "\n",
    "(3*4)+5\n"
   ]
  },
  {
   "cell_type": "code",
   "execution_count": 10,
   "id": "220396eb-79c6-49aa-8325-3244d43eaff8",
   "metadata": {},
   "outputs": [
    {
     "name": "stdout",
     "output_type": "stream",
     "text": [
      "200 min  is 3.3333333333333335 hours\n"
     ]
    }
   ],
   "source": [
    "# This will convert 200 minutes to hours by diving by 60\n",
    "\n",
    "min = 200\n",
    "hr = min / 60\n",
    "print(\"200 min\" , \" is\", hr , \"hours\")\n"
   ]
  },
  {
   "cell_type": "markdown",
   "id": "e28dcf89-4699-4f01-993d-b9a268e74a32",
   "metadata": {},
   "source": [
    "## Author\n",
    "Mohamed Abdalla Khalil Mahmoud\n"
   ]
  },
  {
   "cell_type": "code",
   "execution_count": null,
   "id": "4b7e7255-85b0-4da5-804a-b7a0625f0da3",
   "metadata": {},
   "outputs": [],
   "source": []
  }
 ],
 "metadata": {
  "kernelspec": {
   "display_name": "Python 3 (ipykernel)",
   "language": "python",
   "name": "python3"
  },
  "language_info": {
   "codemirror_mode": {
    "name": "ipython",
    "version": 3
   },
   "file_extension": ".py",
   "mimetype": "text/x-python",
   "name": "python",
   "nbconvert_exporter": "python",
   "pygments_lexer": "ipython3",
   "version": "3.11.7"
  }
 },
 "nbformat": 4,
 "nbformat_minor": 5
}
